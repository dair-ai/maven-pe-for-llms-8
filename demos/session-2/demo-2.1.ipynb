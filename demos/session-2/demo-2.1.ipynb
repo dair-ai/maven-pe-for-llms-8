{
 "cells": [
  {
   "attachments": {},
   "cell_type": "markdown",
   "metadata": {},
   "source": [
    "# Session 2 - Demo 2.1 - Advanced Prompting Techniques\n",
    "\n",
    "<a href=\"https://colab.research.google.com/github/dair-ai/maven-pe-for-llms-8/blob/main/demos/session-2/demo-2.1.ipynb\" target=\"_parent\"><img src=\"https://colab.research.google.com/assets/colab-badge.svg\" alt=\"Open In Colab\"/></a>"
   ]
  },
  {
   "cell_type": "code",
   "execution_count": 1,
   "metadata": {},
   "outputs": [],
   "source": [
    "%%capture\n",
    "# update or install the necessary libraries\n",
    "!pip install --upgrade openai\n",
    "!pip install --upgrade langchain\n",
    "!pip install --upgrade python-dotenv\n",
    "!pip install google-search-results\n",
    "!pip install numexpr"
   ]
  },
  {
   "cell_type": "code",
   "execution_count": 2,
   "metadata": {},
   "outputs": [],
   "source": [
    "# import the necessary libraries\n",
    "import openai\n",
    "import os\n",
    "import IPython\n",
    "from langchain.llms import OpenAI\n",
    "from dotenv import load_dotenv\n",
    "\n",
    "# load the environment variables\n",
    "load_dotenv()\n",
    "\n",
    "# API configuration\n",
    "openai.api_key = os.getenv(\"OPENAI_API_KEY\")\n",
    "\n",
    "# for LangChain\n",
    "os.environ[\"OPENAI_API_KEY\"] = os.getenv(\"OPENAI_API_KEY\")\n",
    "\n",
    "# you need to obtain a SERP API key from https://serpapi.com/\n",
    "os.environ[\"SERPAPI_API_KEY\"] = os.getenv(\"SERPAPI_API_KEY\")"
   ]
  },
  {
   "cell_type": "code",
   "execution_count": 3,
   "metadata": {},
   "outputs": [],
   "source": [
    "def get_completion(messages, model=\"gpt-3.5-turbo-0613\", temperature=0, max_tokens=300):\n",
    "    response = openai.chat.completions.create(\n",
    "        model=model,\n",
    "        messages=messages,\n",
    "        temperature=temperature,\n",
    "        max_tokens=max_tokens,\n",
    "    )\n",
    "    return response.choices[0].message.content"
   ]
  },
  {
   "attachments": {},
   "cell_type": "markdown",
   "metadata": {},
   "source": [
    "### Few-shot Prompting"
   ]
  },
  {
   "cell_type": "code",
   "execution_count": 4,
   "metadata": {},
   "outputs": [
    {
     "name": "stdout",
     "output_type": "stream",
     "text": [
      "The children were so excited that they started to farduddle when they heard the ice cream truck approaching.\n"
     ]
    }
   ],
   "source": [
    "prompt = \"\"\"A \"whatpu\" is a small, furry animal native to Tanzania. \n",
    "An example of a sentence that uses the word whatpu is: We were traveling in Africa and we saw these very cute whatpus.\n",
    "\n",
    "To do a \"farduddle\" means to jump up and down really fast. \n",
    "An example of a sentence that uses the word farduddle is:\n",
    "\"\"\"\n",
    "\n",
    "message = [\n",
    "    {\n",
    "        \"role\": \"user\",\n",
    "        \"content\": prompt\n",
    "    }\n",
    "]\n",
    "\n",
    "response = get_completion(message)\n",
    "print(response)"
   ]
  },
  {
   "attachments": {},
   "cell_type": "markdown",
   "metadata": {},
   "source": [
    "### Chain-of-Thought (CoT) Prompting"
   ]
  },
  {
   "cell_type": "code",
   "execution_count": 5,
   "metadata": {},
   "outputs": [
    {
     "name": "stdout",
     "output_type": "stream",
     "text": [
      "Adding all the odd numbers (15, 5, 13, 7, 1) gives 41. The answer is False.\n"
     ]
    }
   ],
   "source": [
    "prompt = \"\"\"The odd numbers in this group add up to an even number: 4, 8, 9, 15, 12, 2, 1.\n",
    "A: Adding all the odd numbers (9, 15, 1) gives 25. The answer is False.\n",
    "\n",
    "The odd numbers in this group add up to an even number: 15, 32, 5, 13, 82, 7, 1. \n",
    "A:\"\"\"\n",
    "\n",
    "message = [\n",
    "    {\n",
    "        \"role\": \"user\",\n",
    "        \"content\": prompt\n",
    "    }\n",
    "]\n",
    "\n",
    "\n",
    "response = get_completion(message)\n",
    "print(response)"
   ]
  },
  {
   "attachments": {},
   "cell_type": "markdown",
   "metadata": {},
   "source": [
    "### Zero-Shot CoT"
   ]
  },
  {
   "cell_type": "code",
   "execution_count": 6,
   "metadata": {},
   "outputs": [
    {
     "name": "stdout",
     "output_type": "stream",
     "text": [
      "Step 1: You bought 10 apples.\n",
      "Step 2: You gave 2 apples to the neighbor, so you have 10 - 2 = 8 apples remaining.\n",
      "Step 3: You gave 2 more apples to the repairman, so you have 8 - 2 = 6 apples remaining.\n",
      "Step 4: You bought 5 more apples, so you have 6 + 5 = 11 apples.\n",
      "Step 5: You ate 1 apple, so you have 11 - 1 = 10 apples remaining.\n",
      "\n",
      "Therefore, you have 10 apples remaining.\n"
     ]
    }
   ],
   "source": [
    "prompt = \"\"\"I went to the market and bought 10 apples. I gave 2 apples to the neighbor and 2 to the repairman. I then went and bought 5 more apples and ate 1. How many apples did I remain with?\n",
    "\n",
    "Let's think step by step.\"\"\"\n",
    "\n",
    "message = [\n",
    "    {\n",
    "        \"role\": \"user\",\n",
    "        \"content\": prompt\n",
    "    }\n",
    "]\n",
    "\n",
    "response = get_completion(message)\n",
    "print(response)"
   ]
  },
  {
   "attachments": {},
   "cell_type": "markdown",
   "metadata": {},
   "source": [
    "### Chain-of-thought Prompting Applied\n",
    "\n",
    "Building a movie recommendation system that responds with appropriate responses."
   ]
  },
  {
   "cell_type": "code",
   "execution_count": 7,
   "metadata": {},
   "outputs": [],
   "source": [
    "movies = \"\"\"\n",
    "The Enigma Code\n",
    "Category: Historical Drama\n",
    "Rating: 8.3/10\n",
    "Description: Set during World War II, this gripping historical drama follows the life of Alan Turing, a brilliant mathematician tasked with cracking the Enigma code used by the Nazis. His efforts contribute significantly to the Allies' victory.\n",
    "Actors: Benedict Cumberbatch, Keira Knightley, Matthew Goode\n",
    "Language: English\n",
    "Release Date: March 15, 2014\n",
    "Award Winner: Academy Award for Best Adapted Screenplay\n",
    "\n",
    "Shadows of the Samurai\n",
    "Category: Action/Adventure\n",
    "Rating: 7.9/10\n",
    "Description: In feudal Japan, a skilled samurai seeks vengeance against the corrupt warlord who murdered his master. With his swordsmanship and determination, he embarks on a dangerous journey to restore justice.\n",
    "Actors: Ken Watanabe, Tadanobu Asano, Rinko Kikuchi\n",
    "Language: Japanese\n",
    "Release Date: November 7, 2017\n",
    "Award Winner: None\n",
    "\n",
    "Mind Games\n",
    "Category: Psychological Thriller\n",
    "Rating: 8.1/10\n",
    "Description: A renowned psychologist becomes entangled in a twisted game of cat and mouse with a patient who harbors dark secrets. As their sessions progress, the lines between reality and deception blur, leading to a mind-bending climax.\n",
    "Actors: Leonardo DiCaprio, Natalie Portman, Michael Fassbender\n",
    "Language: English\n",
    "Release Date: August 22, 2019\n",
    "Award Winner: None\n",
    "\n",
    "La Casa del Tango\n",
    "Category: Musical/Drama\n",
    "Rating: 8.7/10\n",
    "Description: In the vibrant world of Buenos Aires, a passionate tango dancer finds love and inspiration amidst the backdrop of political unrest. This musical drama explores the power of dance and the pursuit of dreams.\n",
    "Actors: Antonio Banderas, Penélope Cruz, Javier Bardem\n",
    "Language: Spanish\n",
    "Release Date: June 5, 2020\n",
    "Award Winner: Golden Globe for Best Foreign Language Film\n",
    "\n",
    "Timeless Love\n",
    "Category: Romance/Fantasy\n",
    "Rating: 7.5/10\n",
    "Description: A magical encounter transports a modern-day writer back in time to Victorian England, where she falls in love with a charming aristocrat. As they navigate the complexities of time, their love is put to the ultimate test.\n",
    "Actors: Rachel McAdams, Tom Hiddleston, Emma Thompson\n",
    "Language: English\n",
    "Release Date: February 14, 2022\n",
    "Award Winner: None\n",
    "\n",
    "The Pursuit of Justice\n",
    "Category: Legal Drama\n",
    "Rating: 8.4/10\n",
    "Description: Inspired by true events, this gripping legal drama follows a determined lawyer's fight against a powerful pharmaceutical company responsible for a life-threatening drug. The courtroom battle becomes a quest for justice and redemption.\n",
    "Actors: Denzel Washington, Viola Davis, Michael B. Jordan\n",
    "Language: English\n",
    "Release Date: October 10, 2022\n",
    "Award Winner: None\n",
    "\n",
    "The Forgotten Island\n",
    "Category: Adventure/Mystery\n",
    "Rating: 7.6/10\n",
    "Description: A group of explorers stumbles upon a mysterious island believed to be uninhabited. As they uncover the island's secrets, they encounter deadly challenges and unravel an ancient civilization's enigma.\n",
    "Actors: Chris Pratt, Bryce Dallas Howard, Tom Holland\n",
    "Language: English\n",
    "Release Date: July 2, 2023\n",
    "Award Winner: None\n",
    "\n",
    "The Silent Witness\n",
    "Category: Crime/Thriller\n",
    "Rating: 8.2/10\n",
    "Description: A talented forensic pathologist becomes entangled in a high-stakes murder investigation when she discovers crucial evidence that points to a powerful criminal network. With her life on the line, she must outsmart the perpetrators.\n",
    "Actors: Emily Blunt, Jake Gyllenhaal, Mark Ruffalo\n",
    "Language: English\n",
    "Release Date: November 18, 2023\n",
    "Award Winner: None\n",
    "\n",
    "A Tale of Two Worlds\n",
    "Category: Fantasy/Adventure\n",
    "Rating: 7.8/10\n",
    "Description: When a young orphan discovers a magical portal to a parallel universe, she embarks on a thrilling adventure to save both realms from an impending disaster. Along the way, she learns about the power of friendship and self-belief.\n",
    "Actors: Millie Bobby Brown, Tom Holland, Helena Bonham Carter\n",
    "Language: English\n",
    "Release Date: April 5, 2024\n",
    "Award Winner: None\n",
    "\n",
    "A Symphony of Souls\n",
    "Category: Music/Drama\n",
    "Rating: 9.0/10\n",
    "Description: Set against the backdrop of a renowned symphony orchestra, this emotionally charged drama explores the lives and intertwining stories of its members. Through the power of music, they find solace, love, and redemption.\n",
    "Actors: Meryl Streep, Tom Hanks, Cate Blanchett\n",
    "Language: English\n",
    "Release Date: December 25, 2024\n",
    "Award Winner: None\n",
    "\"\"\""
   ]
  },
  {
   "cell_type": "code",
   "execution_count": 8,
   "metadata": {},
   "outputs": [
    {
     "name": "stdout",
     "output_type": "stream",
     "text": [
      "Step 1: The user is asking for a movie recommendation.\n",
      "Step 2: The user is specifically looking for hero movies.\n",
      "Step 3: The user has a specific request for hero movies.\n",
      "Step 4: From the list of movies provided, we can recommend \"Shadows of the Samurai\" as it falls under the category of Action/Adventure and features a skilled samurai seeking vengeance against a corrupt warlord.\n",
      "Response to the user: I would recommend checking out \"Shadows of the Samurai\". It is an action/adventure movie that follows a skilled samurai on a journey for justice.\n"
     ]
    }
   ],
   "source": [
    "# the system message contains the logic (step by step) for the system to follow\n",
    "system_message = \"\"\"\n",
    "You are tasked with recommending movies based on user requests. \n",
    "\n",
    "Here are the steps you need to perform:\n",
    "\n",
    "Step 1: Check if the user is asking for a movie recommendation. If the user is asking about something else, just respond \"Please ask something about movies!\".\n",
    "\n",
    "Step 2: If the user is not asking for a movie recommendation, ask them politely what type of movie they are looking for.\n",
    "\n",
    "Step 3: If the user is asking for a movie recommendation, check if they have any specific requests or interests.\n",
    "\n",
    "Step 4: Check if there are any movie/s we can recommend from the list below:\n",
    "    {movies}\n",
    "\n",
    "Step 5: Prepare a response to the user with the movie recommendation/s. The recommendation have to be about movies that are available in the list above. The response needs to have a friendly and helpful tone.\n",
    "\n",
    "Use the following format for your response:\n",
    "Step 1: <Step 1 reasoning>\n",
    "Step 2: <Step 2 reasoning>\n",
    "Step 3: <Step 3 reasoning>\n",
    "Step 4: <Step 4 reasoning>\n",
    "Response to the user: <response to user>\n",
    "\"\"\"\n",
    "\n",
    "messages = [\n",
    "    {\n",
    "        \"role\": \"system\",\n",
    "        \"content\": system_message.format(movies=movies)\n",
    "    },\n",
    "    {\n",
    "        \"role\": \"user\",\n",
    "        \"content\": \"I am looking for a movie recommendation on hero movies. Can you recommend any?\"\n",
    "    }\n",
    "]\n",
    "\n",
    "response = get_completion(messages)\n",
    "\n",
    "print(response)"
   ]
  },
  {
   "cell_type": "code",
   "execution_count": 9,
   "metadata": {},
   "outputs": [
    {
     "name": "stdout",
     "output_type": "stream",
     "text": [
      "Please ask something about movies!\n"
     ]
    }
   ],
   "source": [
    "# let's try another example\n",
    "messages = [\n",
    "    {\n",
    "        \"role\": \"system\",\n",
    "        \"content\": system_message.format(movies=movies)\n",
    "    },\n",
    "    {\n",
    "        \"role\": \"user\",\n",
    "        \"content\": \"I am looking for the latest shoes. Can you recommend any?\"\n",
    "    }\n",
    "]\n",
    "\n",
    "response = get_completion(messages)\n",
    "\n",
    "print(response)"
   ]
  },
  {
   "cell_type": "code",
   "execution_count": 10,
   "metadata": {},
   "outputs": [
    {
     "name": "stdout",
     "output_type": "stream",
     "text": [
      "Step 1: The user is asking for a movie recommendation.\n",
      "Step 2: The user is asking for a specific movie involving Denzel Washington and Leonardo DiCaprio.\n",
      "Step 3: The user has a specific request for a movie involving Denzel Washington and Leonardo DiCaprio.\n",
      "Step 4: We can recommend the movie \"Mind Games\" which stars Leonardo DiCaprio and falls under the category of Psychological Thriller. However, Denzel Washington is not part of the cast for this movie.\n",
      "Response to the user: I'm sorry, but I couldn't find a movie that involves both Denzel Washington and Leonardo DiCaprio. However, I can recommend the movie \"Mind Games\" which stars Leonardo DiCaprio and falls under the category of Psychological Thriller.\n"
     ]
    }
   ],
   "source": [
    "# let's try another example that's a bit more challenging to the model\n",
    "messages = [\n",
    "    {\n",
    "        \"role\": \"system\",\n",
    "        \"content\": system_message.format(movies=movies)\n",
    "    },\n",
    "    {\n",
    "        \"role\": \"user\",\n",
    "        \"content\": \"Can you recommend me a Denzel Washington movie involving Leonardo Dicaprio?\"\n",
    "    }\n",
    "]\n",
    "\n",
    "response = get_completion(messages)\n",
    "\n",
    "print(response)"
   ]
  },
  {
   "cell_type": "markdown",
   "metadata": {},
   "source": [
    "---"
   ]
  },
  {
   "attachments": {},
   "cell_type": "markdown",
   "metadata": {},
   "source": [
    "## Program-Aided Language Model"
   ]
  },
  {
   "attachments": {},
   "cell_type": "markdown",
   "metadata": {},
   "source": [
    "We can use LangChain for convenience so we will introduce LangChain in Session 2. "
   ]
  },
  {
   "cell_type": "code",
   "execution_count": 11,
   "metadata": {},
   "outputs": [],
   "source": [
    "question = \"Which is the oldest penguin?\""
   ]
  },
  {
   "cell_type": "code",
   "execution_count": 12,
   "metadata": {},
   "outputs": [],
   "source": [
    "PENGUIN_PROMPT = '''\n",
    "\"\"\"\n",
    "Q: Here is a table where the first line is a header and each subsequent line is a penguin:\n",
    "name, age, height (cm), weight (kg) \n",
    "Louis, 7, 50, 11\n",
    "Bernard, 5, 80, 13\n",
    "Vincent, 9, 60, 11\n",
    "Gwen, 8, 70, 15\n",
    "For example: the age of Louis is 7, the weight of Gwen is 15 kg, the height of Bernard is 80 cm. \n",
    "We now add a penguin to the table:\n",
    "James, 12, 90, 12\n",
    "How many penguins are less than 8 years old?\n",
    "\"\"\"\n",
    "# Put the penguins into a list.\n",
    "penguins = []\n",
    "penguins.append(('Louis', 7, 50, 11))\n",
    "penguins.append(('Bernard', 5, 80, 13))\n",
    "penguins.append(('Vincent', 9, 60, 11))\n",
    "penguins.append(('Gwen', 8, 70, 15))\n",
    "# Add penguin James.\n",
    "penguins.append(('James', 12, 90, 12))\n",
    "# Find penguins under 8 years old.\n",
    "penguins_under_8_years_old = [penguin for penguin in penguins if penguin[1] < 8]\n",
    "# Count number of penguins under 8.\n",
    "num_penguin_under_8 = len(penguins_under_8_years_old)\n",
    "answer = num_penguin_under_8\n",
    "\"\"\"\n",
    "Q: Here is a table where the first line is a header and each subsequent line is a penguin:\n",
    "name, age, height (cm), weight (kg) \n",
    "Louis, 7, 50, 11\n",
    "Bernard, 5, 80, 13\n",
    "Vincent, 9, 60, 11\n",
    "Gwen, 8, 70, 15\n",
    "For example: the age of Louis is 7, the weight of Gwen is 15 kg, the height of Bernard is 80 cm.\n",
    "Which is the youngest penguin?\n",
    "\"\"\"\n",
    "# Put the penguins into a list.\n",
    "penguins = []\n",
    "penguins.append(('Louis', 7, 50, 11))\n",
    "penguins.append(('Bernard', 5, 80, 13))\n",
    "penguins.append(('Vincent', 9, 60, 11))\n",
    "penguins.append(('Gwen', 8, 70, 15))\n",
    "# Sort the penguins by age.\n",
    "penguins = sorted(penguins, key=lambda x: x[1])\n",
    "# Get the youngest penguin's name.\n",
    "youngest_penguin_name = penguins[0][0]\n",
    "answer = youngest_penguin_name\n",
    "\"\"\"\n",
    "Q: Here is a table where the first line is a header and each subsequent line is a penguin:\n",
    "name, age, height (cm), weight (kg) \n",
    "Louis, 7, 50, 11\n",
    "Bernard, 5, 80, 13\n",
    "Vincent, 9, 60, 11\n",
    "Gwen, 8, 70, 15\n",
    "For example: the age of Louis is 7, the weight of Gwen is 15 kg, the height of Bernard is 80 cm.\n",
    "What is the name of the second penguin sorted by alphabetic order?\n",
    "\"\"\"\n",
    "# Put the penguins into a list.\n",
    "penguins = []\n",
    "penguins.append(('Louis', 7, 50, 11))\n",
    "penguins.append(('Bernard', 5, 80, 13))\n",
    "penguins.append(('Vincent', 9, 60, 11))\n",
    "penguins.append(('Gwen', 8, 70, 15))\n",
    "# Sort penguins by alphabetic order.\n",
    "penguins_alphabetic = sorted(penguins, key=lambda x: x[0])\n",
    "# Get the second penguin sorted by alphabetic order.\n",
    "second_penguin_name = penguins_alphabetic[1][0]\n",
    "answer = second_penguin_name\n",
    "\"\"\"\n",
    "{question}\n",
    "\"\"\"\n",
    "'''.strip() + '\\n'"
   ]
  },
  {
   "cell_type": "code",
   "execution_count": 13,
   "metadata": {},
   "outputs": [],
   "source": [
    "messages = [\n",
    "    {\n",
    "        \"role\": \"user\",\n",
    "        \"content\": PENGUIN_PROMPT.format(question=question)\n",
    "    }\n",
    "]\n",
    "\n",
    "llm_out = get_completion(messages=messages)"
   ]
  },
  {
   "cell_type": "code",
   "execution_count": 14,
   "metadata": {},
   "outputs": [
    {
     "name": "stdout",
     "output_type": "stream",
     "text": [
      "Vincent\n"
     ]
    }
   ],
   "source": [
    "exec(llm_out)\n",
    "print(answer)"
   ]
  },
  {
   "cell_type": "markdown",
   "metadata": {},
   "source": [
    "---"
   ]
  },
  {
   "attachments": {},
   "cell_type": "markdown",
   "metadata": {},
   "source": [
    "## ReAct"
   ]
  },
  {
   "attachments": {},
   "cell_type": "markdown",
   "metadata": {},
   "source": [
    "For more complex tasks that requires grounding the LM on the latest information, a framework like ReAct can help."
   ]
  },
  {
   "attachments": {},
   "cell_type": "markdown",
   "metadata": {},
   "source": [
    "To test the limitation of the standalone LLM, let's look at a simple example:"
   ]
  },
  {
   "cell_type": "code",
   "execution_count": 35,
   "metadata": {},
   "outputs": [
    {
     "name": "stdout",
     "output_type": "stream",
     "text": [
      "As of October 2021, the team leading the NBA Western Conference is the Golden State Warriors.\n"
     ]
    }
   ],
   "source": [
    "prompt = \"\"\"Which team is leading the NBA Western conference?\"\"\"\n",
    "\n",
    "message = [\n",
    "    {\n",
    "        \"role\": \"user\",\n",
    "        \"content\": prompt\n",
    "    }\n",
    "]\n",
    "\n",
    "response = get_completion(message)\n",
    "print(response)"
   ]
  },
  {
   "attachments": {},
   "cell_type": "markdown",
   "metadata": {},
   "source": [
    "Everything is inaccurate about the responses!"
   ]
  },
  {
   "attachments": {},
   "cell_type": "markdown",
   "metadata": {},
   "source": [
    "LLMs on their own are unreliable for knowledge-intensive tasks that require up-to-date information. Let's now look at an example with ReAct using LangChain.\n",
    "\n",
    "You will need to set an `SERPAPI_API_KEY` in your `.env` which you can obtain using a free account here: https://serpapi.com/\n"
   ]
  },
  {
   "cell_type": "code",
   "execution_count": 30,
   "metadata": {},
   "outputs": [],
   "source": [
    "import openai\n",
    "import os\n",
    "from langchain.llms import OpenAI\n",
    "from langchain.agents import load_tools\n",
    "from langchain.agents import initialize_agent\n",
    "from dotenv import load_dotenv\n",
    "load_dotenv()\n",
    "\n",
    "# load API keys; you will need to obtain these if you haven't yet\n",
    "os.environ[\"OPENAI_API_KEY\"] = os.getenv(\"OPENAI_API_KEY\")\n",
    "os.environ[\"SERPAPI_API_KEY\"] = os.getenv(\"SERPAPI_API_KEY\")"
   ]
  },
  {
   "cell_type": "code",
   "execution_count": 31,
   "metadata": {},
   "outputs": [],
   "source": [
    "llm = OpenAI()\n",
    "tools = load_tools([\"serpapi\", \"llm-math\"], llm=llm)\n",
    "agent = initialize_agent(tools, llm, agent=\"zero-shot-react-description\", verbose=True)"
   ]
  },
  {
   "cell_type": "code",
   "execution_count": 34,
   "metadata": {},
   "outputs": [
    {
     "name": "stdout",
     "output_type": "stream",
     "text": [
      "\n",
      "\n",
      "\u001b[1m> Entering new AgentExecutor chain...\u001b[0m\n",
      "\u001b[32;1m\u001b[1;3m I should search for the current NBA standings\n",
      "Action: Search\n",
      "Action Input: \"NBA Western conference standings\"\u001b[0m\n",
      "Observation: \u001b[36;1m\u001b[1;3m{'title': 'NBA standings', 'thumbnail': 'https://serpapi.com/searches/65e74be8f05eb8599c701cb9/images/090fa6ebc91c72abb0331e645b7452a7783c4cbb37dbe8919533df17172b0883.png', 'season': '2023–24', 'round': 'Regular season', 'league': {'standings': [{'team': {'thumbnail': 'https://serpapi.com/searches/65e74be8f05eb8599c701cb9/images/090fa6ebc91c72abeee37469a6a0a6eafb7f82248fac93b93b7eb51f7449a78869b6e4ca5f474b04883415539afeac8981d254cb91bc3bc3.png', 'name': 'Timberwolves'}, 'pos': '1', 'w': '43', 'l': '19', 'pct': '.694', 'gb': '-', 'conf': '30-10', 'home': '23-8', 'away': '20-11', 'l10': '7-3', 'strk': 'W1'}, {'team': {'thumbnail': 'https://serpapi.com/searches/65e74be8f05eb8599c701cb9/images/090fa6ebc91c72abeee37469a6a0a6eafb7f82248fac93b93b7eb51f7449a788074c6cb27d564c9272d89c09ba15b32b03d57559d98cb3f1.png', 'name': 'Thunder'}, 'pos': '2', 'w': '42', 'l': '19', 'pct': '.689', 'gb': '0.5', 'conf': '26-15', 'home': '24-6', 'away': '18-13', 'l10': '7-3', 'strk': 'L1'}, {'team': {'thumbnail': 'https://serpapi.com/searches/65e74be8f05eb8599c701cb9/images/090fa6ebc91c72abeee37469a6a0a6eafb7f82248fac93b93b7eb51f7449a788446dd765837868d7a9ae104abfacb6711ebd310293991875.png', 'name': 'Nuggets'}, 'pos': '3', 'w': '42', 'l': '19', 'pct': '.689', 'gb': '0.5', 'conf': '24-13', 'home': '24-5', 'away': '18-14', 'l10': '7-3', 'strk': 'W6'}, {'team': {'thumbnail': 'https://serpapi.com/searches/65e74be8f05eb8599c701cb9/images/090fa6ebc91c72abeee37469a6a0a6eafb7f82248fac93b93b7eb51f7449a7882c127f95c0246cabbf5d74198581c2d810b2a8761f074ec0.png', 'name': 'Clippers'}, 'pos': '4', 'w': '39', 'l': '21', 'pct': '.650', 'gb': '3.0', 'conf': '24-16', 'home': '21-8', 'away': '18-13', 'l10': '5-5', 'strk': 'L1'}, {'team': {'thumbnail': 'https://serpapi.com/searches/65e74be8f05eb8599c701cb9/images/090fa6ebc91c72abeee37469a6a0a6eafb7f82248fac93b93b7eb51f7449a78815cd04fc4c5f9c293a302d9fcbe77b471b823f0bcaca0598.png', 'name': 'Pelicans'}, 'pos': '5', 'w': '36', 'l': '25', 'pct': '.590', 'gb': '6.5', 'conf': '24-18', 'home': '18-12', 'away': '18-13', 'l10': '6-4', 'strk': 'W1'}]}}\u001b[0m\n",
      "Thought:\u001b[32;1m\u001b[1;3m I now know the current standings for the NBA Western conference\n",
      "Final Answer: The Minnesota Timberwolves are currently leading the NBA Western conference.\u001b[0m\n",
      "\n",
      "\u001b[1m> Finished chain.\u001b[0m\n"
     ]
    },
    {
     "data": {
      "text/plain": [
       "'The Minnesota Timberwolves are currently leading the NBA Western conference.'"
      ]
     },
     "execution_count": 34,
     "metadata": {},
     "output_type": "execute_result"
    }
   ],
   "source": [
    "agent.run(\"Which team is leading the NBA Western conference?\")"
   ]
  },
  {
   "cell_type": "code",
   "execution_count": 32,
   "metadata": {},
   "outputs": [
    {
     "name": "stdout",
     "output_type": "stream",
     "text": [
      "\n",
      "\n",
      "\u001b[1m> Entering new AgentExecutor chain...\u001b[0m\n",
      "\u001b[32;1m\u001b[1;3m I'm not sure who Olivia Wilde's boyfriend is, but I can use a search engine to find the information.\n",
      "Action: Search\n",
      "Action Input: \"Olivia Wilde boyfriend\"\u001b[0m\n",
      "Observation: \u001b[36;1m\u001b[1;3mDecember 2021: Olivia Wilde addresses the attention on her relationship with Harry Styles. In December, Wilde briefly spoke about the spotlight on the couple's relationship in a cover story for Vogue's January 2022 issue.\u001b[0m\n",
      "Thought:\u001b[32;1m\u001b[1;3m According to the article, it seems like Olivia Wilde's current boyfriend is Harry Styles.\n",
      "Action: Search\n",
      "Action Input: \"Harry Styles age\"\u001b[0m\n",
      "Observation: \u001b[36;1m\u001b[1;3m30 years\u001b[0m\n",
      "Thought:\u001b[32;1m\u001b[1;3m Now that I know Harry Styles' age, I can use a calculator to raise it to the 0.23 power.\n",
      "Action: Calculator\n",
      "Action Input: 30 ^ 0.23\u001b[0m\n",
      "Observation: \u001b[33;1m\u001b[1;3mAnswer: 2.186441634154417\u001b[0m\n",
      "Thought:\u001b[32;1m\u001b[1;3m I now know the final answer.\n",
      "Final Answer: Harry Styles' current age raised to the 0.23 power is approximately 2.19.\u001b[0m\n",
      "\n",
      "\u001b[1m> Finished chain.\u001b[0m\n"
     ]
    },
    {
     "data": {
      "text/plain": [
       "\"Harry Styles' current age raised to the 0.23 power is approximately 2.19.\""
      ]
     },
     "execution_count": 32,
     "metadata": {},
     "output_type": "execute_result"
    }
   ],
   "source": [
    "agent.run(\"Who is Olivia Wilde's boyfriend? What is his current age raised to the 0.23 power?\")"
   ]
  }
 ],
 "metadata": {
  "kernelspec": {
   "display_name": "langchain",
   "language": "python",
   "name": "python3"
  },
  "language_info": {
   "codemirror_mode": {
    "name": "ipython",
    "version": 3
   },
   "file_extension": ".py",
   "mimetype": "text/x-python",
   "name": "python",
   "nbconvert_exporter": "python",
   "pygments_lexer": "ipython3",
   "version": "3.9.18"
  },
  "orig_nbformat": 4
 },
 "nbformat": 4,
 "nbformat_minor": 2
}
