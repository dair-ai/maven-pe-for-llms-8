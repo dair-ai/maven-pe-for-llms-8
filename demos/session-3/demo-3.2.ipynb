{
 "cells": [
  {
   "cell_type": "markdown",
   "metadata": {},
   "source": [
    "# Session 3 |  Fine-tuning vs. Prompt Engineering\n",
    "\n",
    "<a href=\"https://colab.research.google.com/github/dair-ai/maven-pe-for-llms-8/blob/main/demos/session-3/demo-3.2.ipynb\" target=\"_parent\"><img src=\"https://colab.research.google.com/assets/colab-badge.svg\" alt=\"Open In Colab\"/></a>"
   ]
  },
  {
   "cell_type": "code",
   "execution_count": 1,
   "metadata": {},
   "outputs": [],
   "source": [
    "%%capture\n",
    "# update or install the necessary libraries\n",
    "!pip install --upgrade openai\n",
    "!pip install --upgrade python-dotenv\n",
    "!pip install scikit-learn\n",
    "!pip install pandas\n",
    "!pip install seaborn\n",
    "!pip install matplotlib"
   ]
  },
  {
   "cell_type": "code",
   "execution_count": 4,
   "metadata": {},
   "outputs": [],
   "source": [
    "# load libraries\n",
    "import openai\n",
    "import os\n",
    "import IPython\n",
    "from dotenv import load_dotenv\n",
    "import json\n",
    "import pandas as pd\n",
    "import json\n",
    "\n",
    "# load the environment variables\n",
    "load_dotenv()\n",
    "\n",
    "# set the OpenAI API key\n",
    "openai.api_key = os.getenv(\"OPENAI_API_KEY\")"
   ]
  },
  {
   "cell_type": "code",
   "execution_count": 5,
   "metadata": {},
   "outputs": [],
   "source": [
    "def get_completion( messages, model=None):\n",
    "    if model == None:\n",
    "        model = \"ft:gpt-3.5-turbo-0613:dair::8kcBpZhV\"\n",
    "\n",
    "    response = openai.chat.completions.create(\n",
    "        messages=messages,\n",
    "        model=model\n",
    "    )\n",
    "    return response.choices[0].message.content"
   ]
  },
  {
   "cell_type": "markdown",
   "metadata": {},
   "source": [
    "Quick test of the model:"
   ]
  },
  {
   "cell_type": "code",
   "execution_count": 6,
   "metadata": {},
   "outputs": [],
   "source": [
    "messages = [\n",
    "    {\n",
    "        \"role\": \"system\"\n",
    ",        \"content\": \"Your task is to classify a piece of text into the following emotion labels: [\\\"anger\\\", \\\"fear\\\", \\\"joy\\\", \\\"love\\\", \\\"sadness\\\", \\\"surprise\\\"].\"\n",
    "    },\n",
    "    {\n",
    "        \"role\": \"user\",\n",
    "        \"content\": \"I am summer happy!\"\n",
    "    }\n",
    "]\n",
    "\n",
    "response = get_completion(messages, model=\"gpt-3.5-turbo\")"
   ]
  },
  {
   "cell_type": "markdown",
   "metadata": {},
   "source": [
    "Load evaluation:"
   ]
  },
  {
   "cell_type": "code",
   "execution_count": 7,
   "metadata": {},
   "outputs": [],
   "source": [
    "# Path to your .jsonl file\n",
    "file_path = '../data/emotion_val_chat.jsonl'\n",
    "\n",
    "# List to hold the JSON objects\n",
    "emotion_val_data = []\n",
    "\n",
    "# Open the file and read each line\n",
    "with open(file_path, 'r') as file:\n",
    "    for line in file:\n",
    "        # Parse the JSON data and append it to the list\n",
    "        json_obj = json.loads(line)\n",
    "        emotion_val_data.append(json_obj)"
   ]
  },
  {
   "cell_type": "code",
   "execution_count": 8,
   "metadata": {},
   "outputs": [
    {
     "data": {
      "text/plain": [
       "{'messages': [{'role': 'system',\n",
       "   'content': 'Your task is to classify a piece of text into the following emotion labels: [\"anger\", \"fear\", \"joy\", \"love\", \"sadness\", \"surprise\"].'},\n",
       "  {'role': 'user',\n",
       "   'content': 'i feel it has only been agitated by the presence of the smoking'},\n",
       "  {'role': 'assistant', 'content': 'fear'}]}"
      ]
     },
     "execution_count": 8,
     "metadata": {},
     "output_type": "execute_result"
    }
   ],
   "source": [
    "emotion_val_data[0]"
   ]
  },
  {
   "cell_type": "markdown",
   "metadata": {},
   "source": [
    "Get predictions for zero-shot prompt"
   ]
  },
  {
   "cell_type": "code",
   "execution_count": 9,
   "metadata": {},
   "outputs": [],
   "source": [
    "zeroshot_system_prompt = \"\"\"Your task is to classify a piece of text into the following emotion labels: [\\\"anger\\\", \\\"fear\\\", \\\"joy\\\", \\\"love\\\", \\\"sadness\\\", \\\"surprise\\\"].\n",
    "\n",
    "Just output the label as a lowercase string.\n",
    "\"\"\""
   ]
  },
  {
   "cell_type": "code",
   "execution_count": 10,
   "metadata": {},
   "outputs": [
    {
     "data": {
      "text/plain": [
       "120"
      ]
     },
     "execution_count": 10,
     "metadata": {},
     "output_type": "execute_result"
    }
   ],
   "source": [
    "gpt35_responses = []\n",
    "\n",
    "for i in range(len(emotion_val_data)):\n",
    "    messages = [\n",
    "        {\n",
    "            \"role\": \"system\",\n",
    "            \"content\": zeroshot_system_prompt\n",
    "        },\n",
    "        {\n",
    "            \"role\": \"user\",\n",
    "            \"content\": emotion_val_data[i][\"messages\"][1][\"content\"]\n",
    "        }\n",
    "    ]\n",
    "    gpt35_responses.append(get_completion(messages, model=\"gpt-3.5-turbo\"))\n",
    "\n",
    "len(gpt35_responses)"
   ]
  },
  {
   "cell_type": "markdown",
   "metadata": {},
   "source": [
    "Get predictions for fine-tuned model:"
   ]
  },
  {
   "cell_type": "code",
   "execution_count": 11,
   "metadata": {},
   "outputs": [
    {
     "data": {
      "text/plain": [
       "120"
      ]
     },
     "execution_count": 11,
     "metadata": {},
     "output_type": "execute_result"
    }
   ],
   "source": [
    "finetuned_gpt35_responses = []\n",
    "\n",
    "for i in range(len(emotion_val_data)):\n",
    "    messages = [\n",
    "        {\n",
    "            \"role\": \"system\",\n",
    "            \"content\": \"Your task is to classify a piece of text into the following emotion labels: [\\\"anger\\\", \\\"fear\\\", \\\"joy\\\", \\\"love\\\", \\\"sadness\\\", \\\"surprise\\\"].\"\n",
    "        },\n",
    "        {\n",
    "            \"role\": \"user\",\n",
    "            \"content\": emotion_val_data[i][\"messages\"][1][\"content\"]\n",
    "        }\n",
    "    ]\n",
    "    finetuned_gpt35_responses.append(get_completion(messages))\n",
    "\n",
    "len(finetuned_gpt35_responses)"
   ]
  },
  {
   "cell_type": "code",
   "execution_count": 12,
   "metadata": {},
   "outputs": [],
   "source": [
    " #store the assistant content from the lists of objects\n",
    "\n",
    "\n",
    "ground_truth = []\n",
    "\n",
    "for i in range(len(emotion_val_data)):\n",
    "    ground_truth.append(emotion_val_data[i][\"messages\"][2][\"content\"])\n"
   ]
  },
  {
   "cell_type": "code",
   "execution_count": 13,
   "metadata": {},
   "outputs": [
    {
     "data": {
      "text/plain": [
       "(['anger', 'sadness', 'surprise', 'love', 'love'],\n",
       " ['fear', 'sadness', 'fear', 'love', 'love'],\n",
       " ['anger', 'sadness', 'sadness', 'love', 'love'])"
      ]
     },
     "execution_count": 13,
     "metadata": {},
     "output_type": "execute_result"
    }
   ],
   "source": [
    "finetuned_gpt35_responses[0:5], ground_truth[0:5], gpt35_responses[0:5]"
   ]
  },
  {
   "cell_type": "markdown",
   "metadata": {},
   "source": [
    "Convert the labels for analysis:"
   ]
  },
  {
   "cell_type": "code",
   "execution_count": 14,
   "metadata": {},
   "outputs": [],
   "source": [
    "df_results = pd.DataFrame(list(zip(finetuned_gpt35_responses, ground_truth, gpt35_responses)), columns =['finetuned_gpt35_responses', 'ground_truth', 'gpt35_responses'])"
   ]
  },
  {
   "cell_type": "code",
   "execution_count": 15,
   "metadata": {},
   "outputs": [
    {
     "data": {
      "text/html": [
       "<div>\n",
       "<style scoped>\n",
       "    .dataframe tbody tr th:only-of-type {\n",
       "        vertical-align: middle;\n",
       "    }\n",
       "\n",
       "    .dataframe tbody tr th {\n",
       "        vertical-align: top;\n",
       "    }\n",
       "\n",
       "    .dataframe thead th {\n",
       "        text-align: right;\n",
       "    }\n",
       "</style>\n",
       "<table border=\"1\" class=\"dataframe\">\n",
       "  <thead>\n",
       "    <tr style=\"text-align: right;\">\n",
       "      <th></th>\n",
       "      <th>finetuned_gpt35_responses</th>\n",
       "      <th>ground_truth</th>\n",
       "      <th>gpt35_responses</th>\n",
       "    </tr>\n",
       "  </thead>\n",
       "  <tbody>\n",
       "    <tr>\n",
       "      <th>0</th>\n",
       "      <td>anger</td>\n",
       "      <td>fear</td>\n",
       "      <td>anger</td>\n",
       "    </tr>\n",
       "    <tr>\n",
       "      <th>1</th>\n",
       "      <td>sadness</td>\n",
       "      <td>sadness</td>\n",
       "      <td>sadness</td>\n",
       "    </tr>\n",
       "    <tr>\n",
       "      <th>2</th>\n",
       "      <td>surprise</td>\n",
       "      <td>fear</td>\n",
       "      <td>sadness</td>\n",
       "    </tr>\n",
       "    <tr>\n",
       "      <th>3</th>\n",
       "      <td>love</td>\n",
       "      <td>love</td>\n",
       "      <td>love</td>\n",
       "    </tr>\n",
       "    <tr>\n",
       "      <th>4</th>\n",
       "      <td>love</td>\n",
       "      <td>love</td>\n",
       "      <td>love</td>\n",
       "    </tr>\n",
       "    <tr>\n",
       "      <th>...</th>\n",
       "      <td>...</td>\n",
       "      <td>...</td>\n",
       "      <td>...</td>\n",
       "    </tr>\n",
       "    <tr>\n",
       "      <th>115</th>\n",
       "      <td>fear</td>\n",
       "      <td>fear</td>\n",
       "      <td>joy</td>\n",
       "    </tr>\n",
       "    <tr>\n",
       "      <th>116</th>\n",
       "      <td>anger</td>\n",
       "      <td>fear</td>\n",
       "      <td>joy</td>\n",
       "    </tr>\n",
       "    <tr>\n",
       "      <th>117</th>\n",
       "      <td>fear</td>\n",
       "      <td>fear</td>\n",
       "      <td>fear</td>\n",
       "    </tr>\n",
       "    <tr>\n",
       "      <th>118</th>\n",
       "      <td>fear</td>\n",
       "      <td>fear</td>\n",
       "      <td>sadness</td>\n",
       "    </tr>\n",
       "    <tr>\n",
       "      <th>119</th>\n",
       "      <td>fear</td>\n",
       "      <td>fear</td>\n",
       "      <td>joy</td>\n",
       "    </tr>\n",
       "  </tbody>\n",
       "</table>\n",
       "<p>120 rows × 3 columns</p>\n",
       "</div>"
      ],
      "text/plain": [
       "    finetuned_gpt35_responses ground_truth gpt35_responses\n",
       "0                       anger         fear           anger\n",
       "1                     sadness      sadness         sadness\n",
       "2                    surprise         fear         sadness\n",
       "3                        love         love            love\n",
       "4                        love         love            love\n",
       "..                        ...          ...             ...\n",
       "115                      fear         fear             joy\n",
       "116                     anger         fear             joy\n",
       "117                      fear         fear            fear\n",
       "118                      fear         fear         sadness\n",
       "119                      fear         fear             joy\n",
       "\n",
       "[120 rows x 3 columns]"
      ]
     },
     "execution_count": 15,
     "metadata": {},
     "output_type": "execute_result"
    }
   ],
   "source": [
    "df_results"
   ]
  },
  {
   "cell_type": "code",
   "execution_count": 16,
   "metadata": {},
   "outputs": [],
   "source": [
    "completion_map = {\n",
    "    \"anger\": 0,\n",
    "    \"fear\": 1,\n",
    "    \"joy\": 2,\n",
    "    \"love\": 3,\n",
    "    \"sadness\": 4,\n",
    "    \"surprise\": 5\n",
    "}\n",
    "\n",
    "completion_map_string = {\n",
    "    0: \"anger\",\n",
    "    1: \"fear\",\n",
    "    2: \"joy\",\n",
    "    3: \"love\",\n",
    "    4: \"sadness\",\n",
    "    5: \"surprise\"\n",
    "}\n",
    "\n",
    "df_results[\"finetuned_gpt35_responses\"] = df_results[\"finetuned_gpt35_responses\"].map(completion_map)\n",
    "df_results[\"ground_truth\"] = df_results[\"ground_truth\"].map(completion_map)\n",
    "df_results[\"gpt35_responses\"] = df_results[\"gpt35_responses\"].map(completion_map)"
   ]
  },
  {
   "cell_type": "markdown",
   "metadata": {},
   "source": [
    "Plot fine-tuning results:"
   ]
  },
  {
   "cell_type": "code",
   "execution_count": 17,
   "metadata": {},
   "outputs": [
    {
     "data": {
      "text/plain": [
       "([<matplotlib.axis.YTick at 0x7fb80a5533a0>,\n",
       "  <matplotlib.axis.YTick at 0x7fb80a53be20>,\n",
       "  <matplotlib.axis.YTick at 0x7fb848d1ee80>,\n",
       "  <matplotlib.axis.YTick at 0x7fb848d4ddf0>,\n",
       "  <matplotlib.axis.YTick at 0x7fb848d4dd00>,\n",
       "  <matplotlib.axis.YTick at 0x7fb848d52bb0>],\n",
       " [Text(0, 0, 'anger'),\n",
       "  Text(0, 1, 'fear'),\n",
       "  Text(0, 2, 'joy'),\n",
       "  Text(0, 3, 'love'),\n",
       "  Text(0, 4, 'sadness'),\n",
       "  Text(0, 5, 'surprise')])"
      ]
     },
     "execution_count": 17,
     "metadata": {},
     "output_type": "execute_result"
    },
    {
     "data": {
      "image/png": "[encoded data removed]",
      "text/plain": [
       "<Figure size 600x600 with 2 Axes>"
      ]
     },
     "metadata": {},
     "output_type": "display_data"
    }
   ],
   "source": [
    "# plot confustion matrix\n",
    "from sklearn.metrics import confusion_matrix\n",
    "import seaborn as sns\n",
    "import matplotlib.pyplot as plt\n",
    "\n",
    "confusion_matrix = confusion_matrix(df_results[\"ground_truth\"], df_results[\"finetuned_gpt35_responses\"])\n",
    "\n",
    "# plot confusion matrix\n",
    "plt.figure(figsize=(6, 6))\n",
    "sns.heatmap(confusion_matrix, annot=True, fmt=\".0f\", linewidths=0.5, square=True, cmap=\"Blues_r\")\n",
    "\n",
    "# add emotion labels to confusion matrix\n",
    "plt.ylabel(\"Actual label\")\n",
    "plt.xlabel(\"Predicted label\")\n",
    "\n",
    "# annotate the confusion matrix with completion labels\n",
    "tick_marks = [i for i in range(len(completion_map_string))]\n",
    "plt.xticks(tick_marks, list(completion_map_string.values()), rotation=\"vertical\")\n",
    "plt.yticks(tick_marks, list(completion_map_string.values()), rotation=\"horizontal\")"
   ]
  },
  {
   "cell_type": "markdown",
   "metadata": {},
   "source": [
    "Plotting GPT-3.5 Zero-shot results:"
   ]
  },
  {
   "cell_type": "code",
   "execution_count": 18,
   "metadata": {},
   "outputs": [
    {
     "data": {
      "text/plain": [
       "([<matplotlib.axis.YTick at 0x7fb828b4fe20>,\n",
       "  <matplotlib.axis.YTick at 0x7fb828b58280>,\n",
       "  <matplotlib.axis.YTick at 0x7fb80a5e0220>,\n",
       "  <matplotlib.axis.YTick at 0x7fb80a5e5190>,\n",
       "  <matplotlib.axis.YTick at 0x7fb80a5f24f0>,\n",
       "  <matplotlib.axis.YTick at 0x7fb80a5f2fa0>],\n",
       " [Text(0, 0, 'anger'),\n",
       "  Text(0, 1, 'fear'),\n",
       "  Text(0, 2, 'joy'),\n",
       "  Text(0, 3, 'love'),\n",
       "  Text(0, 4, 'sadness'),\n",
       "  Text(0, 5, 'surprise')])"
      ]
     },
     "execution_count": 18,
     "metadata": {},
     "output_type": "execute_result"
    },
    {
     "data": {
      "image/png": "[encoded data removed]",
      "text/plain": [
       "<Figure size 600x600 with 2 Axes>"
      ]
     },
     "metadata": {},
     "output_type": "display_data"
    }
   ],
   "source": [
    "# plot confustion matrix\n",
    "from sklearn.metrics import confusion_matrix\n",
    "import seaborn as sns\n",
    "import matplotlib.pyplot as plt\n",
    "\n",
    "confusion_matrix = confusion_matrix(df_results[\"ground_truth\"], df_results[\"gpt35_responses\"])\n",
    "\n",
    "# plot confusion matrix\n",
    "plt.figure(figsize=(6, 6))\n",
    "sns.heatmap(confusion_matrix, annot=True, fmt=\".0f\", linewidths=0.5, square=True, cmap=\"Blues_r\")\n",
    "\n",
    "# add emotion labels to confusion matrix\n",
    "plt.ylabel(\"Actual label\")\n",
    "plt.xlabel(\"Predicted label\")\n",
    "\n",
    "# annotate the confusion matrix with completion labels\n",
    "tick_marks = [i for i in range(len(completion_map_string))]\n",
    "plt.xticks(tick_marks, list(completion_map_string.values()), rotation=\"vertical\")\n",
    "plt.yticks(tick_marks, list(completion_map_string.values()), rotation=\"horizontal\")\n"
   ]
  },
  {
   "cell_type": "markdown",
   "metadata": {},
   "source": [
    "Plot bar chart to compare fine-grained results:"
   ]
  },
  {
   "cell_type": "code",
   "execution_count": 21,
   "metadata": {},
   "outputs": [
    {
     "data": {
      "image/png": "[encoded data removed]",
      "text/plain": [
       "<Figure size 640x480 with 1 Axes>"
      ]
     },
     "metadata": {},
     "output_type": "display_data"
    }
   ],
   "source": [
    "# use scikitlearn to calculate the accuracy score and other metrics like F1\n",
    "from sklearn.metrics import accuracy_score, f1_score, precision_score, recall_score\n",
    "\n",
    "gpt_3_acc = accuracy_score(df_results[\"ground_truth\"], df_results[\"gpt35_responses\"])\n",
    "\n",
    "gpt_3_f1 = f1_score(df_results[\"ground_truth\"], df_results[\"gpt35_responses\"], average=\"weighted\")\n",
    "\n",
    "gpt_3_precision = precision_score(df_results[\"ground_truth\"], df_results[\"gpt35_responses\"], average=\"weighted\")\n",
    "\n",
    "gpt_3_recall = recall_score(df_results[\"ground_truth\"], df_results[\"gpt35_responses\"], average=\"weighted\")\n",
    "\n",
    "finetuned_acc = accuracy_score(df_results[\"ground_truth\"], df_results[\"finetuned_gpt35_responses\"])\n",
    "\n",
    "finetuned_f1 = f1_score(df_results[\"ground_truth\"], df_results[\"finetuned_gpt35_responses\"], average=\"weighted\")\n",
    "\n",
    "finetuned_precision = precision_score(df_results[\"ground_truth\"], df_results[\"finetuned_gpt35_responses\"], average=\"weighted\")\n",
    "\n",
    "finetuned_recall = recall_score(df_results[\"ground_truth\"], df_results[\"finetuned_gpt35_responses\"], average=\"weighted\")\n",
    "\n",
    "\n",
    "# plot the accuracy, F1, precision, and recall scores in a bar chart\n",
    "import matplotlib.pyplot as plt\n",
    "\n",
    "# set width of bar\n",
    "barWidth = 0.50\n",
    "\n",
    "# set height of bar\n",
    "bars1 = [gpt_3_acc, gpt_3_f1, gpt_3_precision, gpt_3_recall]\n",
    "\n",
    "bars2 = [finetuned_acc, finetuned_f1, finetuned_precision, finetuned_recall]\n",
    "\n",
    "# Set position of bar on X axis\n",
    "r1 = [1, 5, 9, 13]\n",
    "r2 = [2, 6, 10, 14]\n",
    "\n",
    "# Make the plot\n",
    "plt.bar(r1, bars1, color=\"#7f6d5f\", width=barWidth, edgecolor=\"white\", label=\"GPT-3-zero-shot\")\n",
    "plt.bar(r2, bars2, color=\"#557f2d\", width=barWidth, edgecolor=\"white\", label=\"FT\")\n",
    "\n",
    "# Add xticks on the middle of the group bars, make sure to correct the xticks\n",
    "plt.xlabel(\"Metric\", fontweight=\"bold\")\n",
    "\n",
    "# use r1 and r2 positions to set the xticks\n",
    "plt.xticks([r1[r] + barWidth for r in range(len(bars1))], [\"Accuracy\", \"F1\", \"Precision\", \"Recall\"])\n",
    "\n",
    "\n",
    "# Create legend & Show graphic\n",
    "plt.legend()\n",
    "plt.show()\n"
   ]
  },
  {
   "cell_type": "markdown",
   "metadata": {},
   "source": [
    "Exercise: Add more experiments like few-shot prompting and CoT prompting to see if the performance gap can be reduced. "
   ]
  },
  {
   "cell_type": "markdown",
   "metadata": {},
   "source": []
  }
 ],
 "metadata": {
  "kernelspec": {
   "display_name": "pe-for-llms",
   "language": "python",
   "name": "python3"
  },
  "language_info": {
   "codemirror_mode": {
    "name": "ipython",
    "version": 3
   },
   "file_extension": ".py",
   "mimetype": "text/x-python",
   "name": "python",
   "nbconvert_exporter": "python",
   "pygments_lexer": "ipython3",
   "version": "3.9.18"
  }
 },
 "nbformat": 4,
 "nbformat_minor": 2
}
