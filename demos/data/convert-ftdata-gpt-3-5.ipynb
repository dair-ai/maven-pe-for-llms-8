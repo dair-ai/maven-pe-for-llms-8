{
 "cells": [
  {
   "cell_type": "code",
   "execution_count": 1,
   "metadata": {},
   "outputs": [],
   "source": [
    "import json"
   ]
  },
  {
   "cell_type": "code",
   "execution_count": 7,
   "metadata": {},
   "outputs": [],
   "source": [
    "# load jsonl data from /merged_training_sample_100_prepared_train.json\n",
    "\n",
    "import json\n",
    "\n",
    "# Path to your .jsonl file\n",
    "file_path = 'merged_training_sample_100_prepared_train.jsonl'\n",
    "\n",
    "# List to hold the JSON objects\n",
    "data = []\n",
    "\n",
    "# Open the file and read each line\n",
    "with open(file_path, 'r') as file:\n",
    "    for line in file:\n",
    "        # Parse the JSON data and append it to the list\n",
    "        json_obj = json.loads(line)\n",
    "        data.append(json_obj)"
   ]
  },
  {
   "cell_type": "code",
   "execution_count": 9,
   "metadata": {},
   "outputs": [
    {
     "data": {
      "text/plain": [
       "{'prompt': 'i also volunteered that if we were to marry that i would insist on a prenup because i would never take anything he d already owned prior to our commitment together and i wanted him to feel reassured\\n\\n###\\n\\n',\n",
       " 'completion': ' joy\\n'}"
      ]
     },
     "execution_count": 9,
     "metadata": {},
     "output_type": "execute_result"
    }
   ],
   "source": [
    "data[0]"
   ]
  },
  {
   "cell_type": "code",
   "execution_count": 10,
   "metadata": {},
   "outputs": [],
   "source": [
    "# conver the data to chatgpt format\n",
    "\n",
    "# Function to convert an entry to the new format\n",
    "def convert_entry(entry):\n",
    "    # Remove unnecessary characters\n",
    "    prompt = entry['prompt'].replace('\\n\\n###\\n\\n', '').strip()\n",
    "    completion = entry['completion'].replace(\"\\n\", '').strip()\n",
    "\n",
    "    # Create the new format\n",
    "    new_entry = {\n",
    "        \"messages\": [\n",
    "            {\"role\": \"system\", \"content\": \"Your task is to classify a piece of text into the following emotion labels: [\\\"anger\\\", \\\"fear\\\", \\\"joy\\\", \\\"love\\\", \\\"sadness\\\", \\\"surprise\\\"].\"},\n",
    "            {\"role\": \"user\", \"content\": prompt},\n",
    "            {\"role\": \"assistant\", \"content\": completion}\n",
    "        ]\n",
    "    }\n",
    "    return new_entry\n",
    "\n",
    "# Convert the entire dataset\n",
    "converted_data = [convert_entry(entry) for entry in data]"
   ]
  },
  {
   "cell_type": "code",
   "execution_count": 12,
   "metadata": {},
   "outputs": [
    {
     "data": {
      "text/plain": [
       "{'messages': [{'role': 'system',\n",
       "   'content': 'Your task is to classify a piece of text into the following emotion labels: [\"anger\", \"fear\", \"joy\", \"love\", \"sadness\", \"surprise\"].'},\n",
       "  {'role': 'user',\n",
       "   'content': 'i also volunteered that if we were to marry that i would insist on a prenup because i would never take anything he d already owned prior to our commitment together and i wanted him to feel reassured'},\n",
       "  {'role': 'assistant', 'content': 'joy'}]}"
      ]
     },
     "execution_count": 12,
     "metadata": {},
     "output_type": "execute_result"
    }
   ],
   "source": [
    "converted_data[0]"
   ]
  },
  {
   "cell_type": "code",
   "execution_count": 13,
   "metadata": {},
   "outputs": [],
   "source": [
    "output_file_path = 'emotion_training_chat.jsonl'\n",
    "\n",
    "# Open the file in write mode\n",
    "with open(output_file_path, 'w') as file:\n",
    "    for entry in converted_data:\n",
    "        # Write each JSON object as a string on a new line\n",
    "        json_str = json.dumps(entry)\n",
    "        file.write(json_str + '\\n')"
   ]
  },
  {
   "cell_type": "markdown",
   "metadata": {},
   "source": [
    "Convert the Validation dataset too"
   ]
  },
  {
   "cell_type": "code",
   "execution_count": 14,
   "metadata": {},
   "outputs": [],
   "source": [
    "# Path to your .jsonl file\n",
    "val_file_path = 'merged_training_sample_100_prepared_valid.jsonl'\n",
    "\n",
    "# List to hold the JSON objects\n",
    "val_data = []\n",
    "\n",
    "# Open the file and read each line\n",
    "with open(val_file_path, 'r') as file:\n",
    "    for line in file:\n",
    "        # Parse the JSON data and append it to the list\n",
    "        json_obj = json.loads(line)\n",
    "        val_data.append(json_obj)"
   ]
  },
  {
   "cell_type": "code",
   "execution_count": 16,
   "metadata": {},
   "outputs": [],
   "source": [
    "# Convert the entire dataset\n",
    "converted_val_data = [convert_entry(entry) for entry in val_data]"
   ]
  },
  {
   "cell_type": "code",
   "execution_count": 18,
   "metadata": {},
   "outputs": [],
   "source": [
    "val_output_file_path = 'emotion_val_chat.jsonl'\n",
    "\n",
    "# Open the file in write mode\n",
    "with open(val_output_file_path, 'w') as file:\n",
    "    for entry in converted_val_data:\n",
    "        # Write each JSON object as a string on a new line\n",
    "        json_str = json.dumps(entry)\n",
    "        file.write(json_str + '\\n')"
   ]
  },
  {
   "cell_type": "code",
   "execution_count": null,
   "metadata": {},
   "outputs": [],
   "source": []
  }
 ],
 "metadata": {
  "kernelspec": {
   "display_name": "pe-for-llms",
   "language": "python",
   "name": "python3"
  },
  "language_info": {
   "codemirror_mode": {
    "name": "ipython",
    "version": 3
   },
   "file_extension": ".py",
   "mimetype": "text/x-python",
   "name": "python",
   "nbconvert_exporter": "python",
   "pygments_lexer": "ipython3",
   "version": "3.9.18"
  }
 },
 "nbformat": 4,
 "nbformat_minor": 2
}
